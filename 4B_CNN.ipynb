{
 "cells": [
  {
   "cell_type": "code",
   "execution_count": 1,
   "metadata": {},
   "outputs": [],
   "source": [
    "import pandas as pd\n",
    "from ekphrasis.classes.preprocessor import TextPreProcessor\n",
    "from ekphrasis.classes.tokenizer import SocialTokenizer\n",
    "from ekphrasis.dicts.emoticons import emoticons\n",
    "import tensorflow as tf\n",
    "import tensorflow_datasets as tfds\n",
    "import numpy as np"
   ]
  },
  {
   "cell_type": "code",
   "execution_count": 2,
   "metadata": {},
   "outputs": [
    {
     "data": {
      "text/html": [
       "<div>\n",
       "<style scoped>\n",
       "    .dataframe tbody tr th:only-of-type {\n",
       "        vertical-align: middle;\n",
       "    }\n",
       "\n",
       "    .dataframe tbody tr th {\n",
       "        vertical-align: top;\n",
       "    }\n",
       "\n",
       "    .dataframe thead th {\n",
       "        text-align: right;\n",
       "    }\n",
       "</style>\n",
       "<table border=\"1\" class=\"dataframe\">\n",
       "  <thead>\n",
       "    <tr style=\"text-align: right;\">\n",
       "      <th></th>\n",
       "      <th>topic</th>\n",
       "      <th>polarity</th>\n",
       "      <th>tweet</th>\n",
       "    </tr>\n",
       "  </thead>\n",
       "  <tbody>\n",
       "    <tr>\n",
       "      <th>0</th>\n",
       "      <td>amy schumer</td>\n",
       "      <td>negative</td>\n",
       "      <td>@MargaretsBelly Amy Schumer is the stereotypic...</td>\n",
       "    </tr>\n",
       "    <tr>\n",
       "      <th>1</th>\n",
       "      <td>amy schumer</td>\n",
       "      <td>negative</td>\n",
       "      <td>@dani_pitter I mean I get the hype around JLaw...</td>\n",
       "    </tr>\n",
       "    <tr>\n",
       "      <th>2</th>\n",
       "      <td>amy schumer</td>\n",
       "      <td>negative</td>\n",
       "      <td>Amy Schumer at the #GQmenoftheyear2015 party i...</td>\n",
       "    </tr>\n",
       "    <tr>\n",
       "      <th>3</th>\n",
       "      <td>amy schumer</td>\n",
       "      <td>negative</td>\n",
       "      <td>Amy Schumer is on Sky Atlantic doing one of th...</td>\n",
       "    </tr>\n",
       "    <tr>\n",
       "      <th>4</th>\n",
       "      <td>amy schumer</td>\n",
       "      <td>negative</td>\n",
       "      <td>Amy Schumer may have brought us Trainwreck, bu...</td>\n",
       "    </tr>\n",
       "    <tr>\n",
       "      <th>...</th>\n",
       "      <td>...</td>\n",
       "      <td>...</td>\n",
       "      <td>...</td>\n",
       "    </tr>\n",
       "    <tr>\n",
       "      <th>10546</th>\n",
       "      <td>zayn</td>\n",
       "      <td>positive</td>\n",
       "      <td>tomorrow I've to wake up  early so Zayn's erfo...</td>\n",
       "    </tr>\n",
       "    <tr>\n",
       "      <th>10547</th>\n",
       "      <td>zayn</td>\n",
       "      <td>positive</td>\n",
       "      <td>with Zayn gone I can now definitively say that...</td>\n",
       "    </tr>\n",
       "    <tr>\n",
       "      <th>10548</th>\n",
       "      <td>zayn</td>\n",
       "      <td>positive</td>\n",
       "      <td>yo don't ever say that! god forbid! may it not...</td>\n",
       "    </tr>\n",
       "    <tr>\n",
       "      <th>10549</th>\n",
       "      <td>zayn</td>\n",
       "      <td>positive</td>\n",
       "      <td>you may call me a bad fan but I sobbed so hard...</td>\n",
       "    </tr>\n",
       "    <tr>\n",
       "      <th>10550</th>\n",
       "      <td>zayn</td>\n",
       "      <td>positive</td>\n",
       "      <td>zayn's voice: c'mon guys you can do it, nobody...</td>\n",
       "    </tr>\n",
       "  </tbody>\n",
       "</table>\n",
       "<p>10551 rows × 3 columns</p>\n",
       "</div>"
      ],
      "text/plain": [
       "             topic  polarity  \\\n",
       "0      amy schumer  negative   \n",
       "1      amy schumer  negative   \n",
       "2      amy schumer  negative   \n",
       "3      amy schumer  negative   \n",
       "4      amy schumer  negative   \n",
       "...            ...       ...   \n",
       "10546         zayn  positive   \n",
       "10547         zayn  positive   \n",
       "10548         zayn  positive   \n",
       "10549         zayn  positive   \n",
       "10550         zayn  positive   \n",
       "\n",
       "                                                   tweet  \n",
       "0      @MargaretsBelly Amy Schumer is the stereotypic...  \n",
       "1      @dani_pitter I mean I get the hype around JLaw...  \n",
       "2      Amy Schumer at the #GQmenoftheyear2015 party i...  \n",
       "3      Amy Schumer is on Sky Atlantic doing one of th...  \n",
       "4      Amy Schumer may have brought us Trainwreck, bu...  \n",
       "...                                                  ...  \n",
       "10546  tomorrow I've to wake up  early so Zayn's erfo...  \n",
       "10547  with Zayn gone I can now definitively say that...  \n",
       "10548  yo don't ever say that! god forbid! may it not...  \n",
       "10549  you may call me a bad fan but I sobbed so hard...  \n",
       "10550  zayn's voice: c'mon guys you can do it, nobody...  \n",
       "\n",
       "[10551 rows x 3 columns]"
      ]
     },
     "execution_count": 2,
     "metadata": {},
     "output_type": "execute_result"
    }
   ],
   "source": [
    "df = pd.read_table(\"SemEval2017-task4-dev.subtask-BD.english.INPUT.txt\",sep=\"\\t\", header=None)\n",
    "df = df.drop(columns=[4])\n",
    "df = df.drop(columns=[0])\n",
    "df.columns = [\"topic\", \"polarity\", \"tweet\"]\n",
    "df"
   ]
  },
  {
   "cell_type": "code",
   "execution_count": 3,
   "metadata": {
    "scrolled": true
   },
   "outputs": [
    {
     "data": {
      "text/html": [
       "<div>\n",
       "<style scoped>\n",
       "    .dataframe tbody tr th:only-of-type {\n",
       "        vertical-align: middle;\n",
       "    }\n",
       "\n",
       "    .dataframe tbody tr th {\n",
       "        vertical-align: top;\n",
       "    }\n",
       "\n",
       "    .dataframe thead th {\n",
       "        text-align: right;\n",
       "    }\n",
       "</style>\n",
       "<table border=\"1\" class=\"dataframe\">\n",
       "  <thead>\n",
       "    <tr style=\"text-align: right;\">\n",
       "      <th></th>\n",
       "      <th>topic</th>\n",
       "      <th>polarity</th>\n",
       "      <th>tweet</th>\n",
       "    </tr>\n",
       "  </thead>\n",
       "  <tbody>\n",
       "    <tr>\n",
       "      <th>0</th>\n",
       "      <td>amy schumer</td>\n",
       "      <td>0</td>\n",
       "      <td>@MargaretsBelly Amy Schumer is the stereotypic...</td>\n",
       "    </tr>\n",
       "    <tr>\n",
       "      <th>1</th>\n",
       "      <td>amy schumer</td>\n",
       "      <td>0</td>\n",
       "      <td>@dani_pitter I mean I get the hype around JLaw...</td>\n",
       "    </tr>\n",
       "    <tr>\n",
       "      <th>2</th>\n",
       "      <td>amy schumer</td>\n",
       "      <td>0</td>\n",
       "      <td>Amy Schumer at the #GQmenoftheyear2015 party i...</td>\n",
       "    </tr>\n",
       "    <tr>\n",
       "      <th>3</th>\n",
       "      <td>amy schumer</td>\n",
       "      <td>0</td>\n",
       "      <td>Amy Schumer is on Sky Atlantic doing one of th...</td>\n",
       "    </tr>\n",
       "    <tr>\n",
       "      <th>4</th>\n",
       "      <td>amy schumer</td>\n",
       "      <td>0</td>\n",
       "      <td>Amy Schumer may have brought us Trainwreck, bu...</td>\n",
       "    </tr>\n",
       "    <tr>\n",
       "      <th>...</th>\n",
       "      <td>...</td>\n",
       "      <td>...</td>\n",
       "      <td>...</td>\n",
       "    </tr>\n",
       "    <tr>\n",
       "      <th>10546</th>\n",
       "      <td>zayn</td>\n",
       "      <td>1</td>\n",
       "      <td>tomorrow I've to wake up  early so Zayn's erfo...</td>\n",
       "    </tr>\n",
       "    <tr>\n",
       "      <th>10547</th>\n",
       "      <td>zayn</td>\n",
       "      <td>1</td>\n",
       "      <td>with Zayn gone I can now definitively say that...</td>\n",
       "    </tr>\n",
       "    <tr>\n",
       "      <th>10548</th>\n",
       "      <td>zayn</td>\n",
       "      <td>1</td>\n",
       "      <td>yo don't ever say that! god forbid! may it not...</td>\n",
       "    </tr>\n",
       "    <tr>\n",
       "      <th>10549</th>\n",
       "      <td>zayn</td>\n",
       "      <td>1</td>\n",
       "      <td>you may call me a bad fan but I sobbed so hard...</td>\n",
       "    </tr>\n",
       "    <tr>\n",
       "      <th>10550</th>\n",
       "      <td>zayn</td>\n",
       "      <td>1</td>\n",
       "      <td>zayn's voice: c'mon guys you can do it, nobody...</td>\n",
       "    </tr>\n",
       "  </tbody>\n",
       "</table>\n",
       "<p>10551 rows × 3 columns</p>\n",
       "</div>"
      ],
      "text/plain": [
       "             topic  polarity  \\\n",
       "0      amy schumer         0   \n",
       "1      amy schumer         0   \n",
       "2      amy schumer         0   \n",
       "3      amy schumer         0   \n",
       "4      amy schumer         0   \n",
       "...            ...       ...   \n",
       "10546         zayn         1   \n",
       "10547         zayn         1   \n",
       "10548         zayn         1   \n",
       "10549         zayn         1   \n",
       "10550         zayn         1   \n",
       "\n",
       "                                                   tweet  \n",
       "0      @MargaretsBelly Amy Schumer is the stereotypic...  \n",
       "1      @dani_pitter I mean I get the hype around JLaw...  \n",
       "2      Amy Schumer at the #GQmenoftheyear2015 party i...  \n",
       "3      Amy Schumer is on Sky Atlantic doing one of th...  \n",
       "4      Amy Schumer may have brought us Trainwreck, bu...  \n",
       "...                                                  ...  \n",
       "10546  tomorrow I've to wake up  early so Zayn's erfo...  \n",
       "10547  with Zayn gone I can now definitively say that...  \n",
       "10548  yo don't ever say that! god forbid! may it not...  \n",
       "10549  you may call me a bad fan but I sobbed so hard...  \n",
       "10550  zayn's voice: c'mon guys you can do it, nobody...  \n",
       "\n",
       "[10551 rows x 3 columns]"
      ]
     },
     "execution_count": 3,
     "metadata": {},
     "output_type": "execute_result"
    }
   ],
   "source": [
    "df[\"polarity\"].replace({\"positive\": 1, \"negative\": 0}, inplace=True)\n",
    "df"
   ]
  },
  {
   "cell_type": "code",
   "execution_count": 4,
   "metadata": {},
   "outputs": [
    {
     "data": {
      "text/plain": [
       "<TensorSliceDataset shapes: ((2,), ()), types: (tf.string, tf.int64)>"
      ]
     },
     "execution_count": 4,
     "metadata": {},
     "output_type": "execute_result"
    }
   ],
   "source": [
    "target = df.pop('polarity')\n",
    "dataset = tf.data.Dataset.from_tensor_slices((df.values, target.values))\n",
    "dataset"
   ]
  },
  {
   "cell_type": "code",
   "execution_count": 5,
   "metadata": {},
   "outputs": [
    {
     "name": "stdout",
     "output_type": "stream",
     "text": [
      "(<tf.Tensor: id=11, shape=(2,), dtype=string, numpy=\n",
      "array([b'amy schumer',\n",
      "       b\"@MargaretsBelly Amy Schumer is the stereotypical 1st world Laci Green feminazi. Plus she's unfunny\"],\n",
      "      dtype=object)>, <tf.Tensor: id=12, shape=(), dtype=int64, numpy=0>)\n"
     ]
    }
   ],
   "source": [
    "for i in dataset.take(1):\n",
    "    print(i)"
   ]
  },
  {
   "cell_type": "code",
   "execution_count": 6,
   "metadata": {
    "scrolled": true
   },
   "outputs": [
    {
     "name": "stdout",
     "output_type": "stream",
     "text": [
      "Reading twitter - 1grams ...\n",
      "Reading twitter - 2grams ...\n"
     ]
    },
    {
     "name": "stderr",
     "output_type": "stream",
     "text": [
      "D:\\Anaconda\\envs\\tf-gpu\\lib\\site-packages\\ekphrasis\\classes\\tokenizer.py:225: FutureWarning: Possible nested set at position 2190\n",
      "  self.tok = re.compile(r\"({})\".format(\"|\".join(pipeline)))\n"
     ]
    },
    {
     "name": "stdout",
     "output_type": "stream",
     "text": [
      "Reading twitter - 1grams ...\n"
     ]
    },
    {
     "name": "stderr",
     "output_type": "stream",
     "text": [
      "D:\\Anaconda\\envs\\tf-gpu\\lib\\site-packages\\ekphrasis\\classes\\exmanager.py:14: FutureWarning: Possible nested set at position 42\n",
      "  regexes = {k.lower(): re.compile(self.expressions[k]) for k, v in\n"
     ]
    }
   ],
   "source": [
    "text_processor = TextPreProcessor(\n",
    "    # terms that will be normalized\n",
    "    normalize=['url', 'email', 'percent', 'money', 'phone', 'user',\n",
    "        'time', 'url', 'date', 'number'],\n",
    "    # terms that will be annotated\n",
    "    annotate={\"hashtag\", \"allcaps\", \"elongated\", \"repeated\",\n",
    "        'emphasis', 'censored'},\n",
    "    fix_html=True,  # fix HTML tokens\n",
    "    \n",
    "    # corpus from which the word statistics are going to be used \n",
    "    # for word segmentation \n",
    "    segmenter=\"twitter\", \n",
    "    \n",
    "    # corpus from which the word statistics are going to be used \n",
    "    # for spell correction\n",
    "    corrector=\"twitter\", \n",
    "    \n",
    "    unpack_hashtags=True,  # perform word segmentation on hashtags\n",
    "    unpack_contractions=True,  # Unpack contractions (can't -> can not)\n",
    "    spell_correct_elong=False,  # spell correction for elongated words\n",
    "    \n",
    "    # select a tokenizer. You can use SocialTokenizer, or pass your own\n",
    "    # the tokenizer, should take as input a string and return a list of tokens\n",
    "    tokenizer=SocialTokenizer(lowercase=True).tokenize,\n",
    "    \n",
    "    # list of dictionaries, for replacing tokens extracted from the text,\n",
    "    # with other expressions. You can pass more than one dictionaries.\n",
    "    dicts=[emoticons]\n",
    ")"
   ]
  },
  {
   "cell_type": "code",
   "execution_count": 7,
   "metadata": {},
   "outputs": [
    {
     "data": {
      "text/plain": [
       "14253"
      ]
     },
     "execution_count": 7,
     "metadata": {},
     "output_type": "execute_result"
    }
   ],
   "source": [
    "vocabulary_set = set()\n",
    "for text_tensor, label in dataset:\n",
    "    text = str(text_tensor.numpy()[1], 'utf-8')\n",
    "    some_tokens = text_processor.pre_process_doc(text)\n",
    "#     print(some_tokens)\n",
    "    vocabulary_set.update(some_tokens)\n",
    "    \n",
    "vocab_size = len(vocabulary_set)\n",
    "vocab_size"
   ]
  },
  {
   "cell_type": "code",
   "execution_count": 8,
   "metadata": {},
   "outputs": [],
   "source": [
    "encoder = tfds.features.text.TokenTextEncoder(vocabulary_set)"
   ]
  },
  {
   "cell_type": "code",
   "execution_count": 9,
   "metadata": {},
   "outputs": [],
   "source": [
    "def encode(text_tensor, label):\n",
    "#     special_number = [14254]\n",
    "    encoded_msg = encoder.encode(text_tensor.numpy()[1])\n",
    "#     encoded_topic = encoder.encode(text_tensor.numpy()[0])\n",
    "#     encoded_text = encoded_topic+special_number+encoded_msg\n",
    "\n",
    "    return encoded_msg, label"
   ]
  },
  {
   "cell_type": "code",
   "execution_count": 10,
   "metadata": {},
   "outputs": [],
   "source": [
    "def encode_map_fn(text, label):\n",
    "  # py_func doesn't set the shape of the returned tensors.\n",
    "    encoded_text, label = tf.py_function(encode, \n",
    "                                        inp=[text, label], \n",
    "                                        Tout=(tf.int64, tf.int64))\n",
    "\n",
    "  # `tf.data.Datasets` work best if all components have a shape set\n",
    "  #  so set the shapes manually: \n",
    "    encoded_text.set_shape([None])\n",
    "#     encoded_topic.set_shape([None])\n",
    "    label.set_shape([])\n",
    "\n",
    "    return encoded_text, label\n",
    "\n",
    "\n",
    "all_encoded_data = dataset.map(encode_map_fn)"
   ]
  },
  {
   "cell_type": "code",
   "execution_count": 11,
   "metadata": {},
   "outputs": [
    {
     "name": "stdout",
     "output_type": "stream",
     "text": [
      "(<tf.Tensor: id=21139, shape=(15,), dtype=int64, numpy=\n",
      "array([14254, 14254, 14254,  6928,  1915, 11137, 14254,  4627, 14254,\n",
      "       14254, 11483, 14254, 11032, 13500,  1238], dtype=int64)>, <tf.Tensor: id=21140, shape=(), dtype=int64, numpy=0>)\n"
     ]
    }
   ],
   "source": [
    "for i in all_encoded_data.take(1):\n",
    "    print(i)"
   ]
  },
  {
   "cell_type": "code",
   "execution_count": 12,
   "metadata": {},
   "outputs": [],
   "source": [
    "BUFFER_SIZE = 50000\n",
    "BATCH_SIZE = 64\n",
    "DATASET_SIZE = 14253\n",
    "TEST_SIZE = int(0.15 * DATASET_SIZE)\n",
    "VAL_SIZE = int(0.15 * DATASET_SIZE)"
   ]
  },
  {
   "cell_type": "code",
   "execution_count": 13,
   "metadata": {},
   "outputs": [],
   "source": [
    "train_data = all_encoded_data.skip(TEST_SIZE+VAL_SIZE).shuffle(BUFFER_SIZE)\n",
    "train_data = train_data.padded_batch(BATCH_SIZE, padded_shapes=([None],[]))\n",
    "\n",
    "test_val_data = all_encoded_data.take(TEST_SIZE+VAL_SIZE)\n",
    "\n",
    "test_data = test_val_data.skip(VAL_SIZE)\n",
    "test_data = test_data.padded_batch(BATCH_SIZE, padded_shapes=([None],[]))\n",
    "\n",
    "val_data = test_val_data.take(VAL_SIZE)\n",
    "val_data = val_data.padded_batch(BATCH_SIZE, padded_shapes=([None],[]))"
   ]
  },
  {
   "cell_type": "code",
   "execution_count": 14,
   "metadata": {},
   "outputs": [
    {
     "name": "stdout",
     "output_type": "stream",
     "text": [
      "(<tf.Tensor: id=52836, shape=(64, 30), dtype=int64, numpy=\n",
      "array([[14254, 14254, 14254, ...,     0,     0,     0],\n",
      "       [14254,   757,  6317, ...,     0,     0,     0],\n",
      "       [ 3544,   757, 11602, ...,     0,     0,     0],\n",
      "       ...,\n",
      "       [14254, 14254, 13500, ...,     0,     0,     0],\n",
      "       [14254,  4222,   474, ...,     0,     0,     0],\n",
      "       [14254, 14254,  1689, ...,     0,     0,     0]], dtype=int64)>, <tf.Tensor: id=52837, shape=(64,), dtype=int64, numpy=\n",
      "array([1, 0, 0, 1, 1, 0, 0, 1, 0, 1, 1, 1, 1, 1, 0, 1, 1, 0, 1, 1, 1, 1,\n",
      "       0, 0, 0, 1, 1, 1, 1, 1, 1, 1, 1, 1, 1, 0, 1, 1, 1, 1, 1, 1, 0, 1,\n",
      "       1, 1, 1, 0, 1, 1, 1, 0, 1, 0, 0, 1, 1, 1, 0, 1, 1, 1, 1, 1],\n",
      "      dtype=int64)>)\n"
     ]
    }
   ],
   "source": [
    "for i in train_data.take(1):\n",
    "    print(i)"
   ]
  },
  {
   "cell_type": "code",
   "execution_count": 15,
   "metadata": {},
   "outputs": [],
   "source": [
    "vocab_size += 2"
   ]
  },
  {
   "cell_type": "code",
   "execution_count": 16,
   "metadata": {},
   "outputs": [],
   "source": [
    "model = tf.keras.Sequential([\n",
    "    tf.keras.layers.Embedding(vocab_size, 200),\n",
    "    tf.keras.layers.Bidirectional(tf.keras.layers.LSTM(64)),\n",
    "    tf.keras.layers.Dense(64, activation='relu'),\n",
    "    tf.keras.layers.Dense(1)\n",
    "])"
   ]
  },
  {
   "cell_type": "code",
   "execution_count": 17,
   "metadata": {},
   "outputs": [],
   "source": [
    "model.compile(loss=tf.keras.losses.BinaryCrossentropy(from_logits=True),\n",
    "              optimizer=tf.keras.optimizers.Adam(1e-4),\n",
    "              metrics=['accuracy'])"
   ]
  },
  {
   "cell_type": "code",
   "execution_count": 18,
   "metadata": {},
   "outputs": [
    {
     "name": "stdout",
     "output_type": "stream",
     "text": [
      "Epoch 1/7\n",
      "99/99 [==============================] - 11s 113ms/step - loss: 0.5981 - accuracy: 0.4185 - val_loss: 0.0000e+00 - val_accuracy: 0.0000e+00\n",
      "Epoch 2/7\n",
      "99/99 [==============================] - 6s 59ms/step - loss: 0.4766 - accuracy: 0.8017 - val_loss: 0.5544 - val_accuracy: 0.7333\n",
      "Epoch 3/7\n",
      "99/99 [==============================] - 6s 60ms/step - loss: 0.4391 - accuracy: 0.8048 - val_loss: 0.5282 - val_accuracy: 0.7454\n",
      "Epoch 4/7\n",
      "99/99 [==============================] - 6s 60ms/step - loss: 0.3717 - accuracy: 0.8418 - val_loss: 0.4688 - val_accuracy: 0.7904\n",
      "Epoch 5/7\n",
      "99/99 [==============================] - 6s 59ms/step - loss: 0.3025 - accuracy: 0.8829 - val_loss: 0.4647 - val_accuracy: 0.7918\n",
      "Epoch 6/7\n",
      "99/99 [==============================] - 6s 60ms/step - loss: 0.2387 - accuracy: 0.9015 - val_loss: 0.5370 - val_accuracy: 0.8007\n",
      "Epoch 7/7\n",
      "99/99 [==============================] - 6s 60ms/step - loss: 0.1896 - accuracy: 0.9221 - val_loss: 0.5210 - val_accuracy: 0.7763\n"
     ]
    },
    {
     "data": {
      "text/plain": [
       "<tensorflow.python.keras.callbacks.History at 0x23b4169e388>"
      ]
     },
     "execution_count": 18,
     "metadata": {},
     "output_type": "execute_result"
    }
   ],
   "source": [
    "model.fit(train_data, epochs=7, validation_data=val_data)"
   ]
  },
  {
   "cell_type": "code",
   "execution_count": 19,
   "metadata": {},
   "outputs": [
    {
     "name": "stdout",
     "output_type": "stream",
     "text": [
      "34/34 [==============================] - 1s 31ms/step - loss: 0.4377 - accuracy: 0.7894\n",
      "\n",
      "Eval loss: 0.438, Eval accuracy: 0.789\n"
     ]
    }
   ],
   "source": [
    "eval_loss, eval_acc = model.evaluate(test_data)\n",
    "\n",
    "print('\\nEval loss: {:.3f}, Eval accuracy: {:.3f}'.format(eval_loss, eval_acc))"
   ]
  }
 ],
 "metadata": {
  "kernelspec": {
   "display_name": "Python 3",
   "language": "python",
   "name": "python3"
  },
  "language_info": {
   "codemirror_mode": {
    "name": "ipython",
    "version": 3
   },
   "file_extension": ".py",
   "mimetype": "text/x-python",
   "name": "python",
   "nbconvert_exporter": "python",
   "pygments_lexer": "ipython3",
   "version": "3.7.5"
  }
 },
 "nbformat": 4,
 "nbformat_minor": 4
}
